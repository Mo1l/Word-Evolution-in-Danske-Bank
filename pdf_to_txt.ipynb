{
 "cells": [
  {
   "cell_type": "markdown",
   "metadata": {},
   "source": [
    "### Constructing a CORPUS"
   ]
  },
  {
   "cell_type": "code",
   "execution_count": 1,
   "metadata": {},
   "outputs": [],
   "source": [
    "import PyPDF2 as pdf2\n",
    "from tika import parser\n",
    "import textract\n",
    "import re\n",
    "from os import listdir\n",
    "from os.path import isfile, join, expanduser\n",
    "import os"
   ]
  },
  {
   "cell_type": "code",
   "execution_count": 2,
   "metadata": {},
   "outputs": [],
   "source": [
    "class pdf_to_text:\n",
    "    import os\n",
    "    \n",
    "    def __init__(self, location, destination):\n",
    "        \"\"\"\n",
    "        :param location: path where pdfs to be converted is located\n",
    "        :type location: str\n",
    "        :param destination: path where txt files is saved\n",
    "        :type destination: str\n",
    "        \"\"\"\n",
    "        self.location = location\n",
    "        self.destination = destination\n",
    "        \n",
    "        if self.location is not None:\n",
    "            self.get_pdf_locations()\n",
    "\n",
    "\n",
    "    def get_pdf_locations(self):\n",
    "        if self.location is not None:\n",
    "            self.path, self.destination, self.files = self.get_files_in_location(self.location, self.destination)\n",
    "            \n",
    "            print(\"found \" + str(len(self.files))+ \" files in \" + str(self.path))\n",
    "            \n",
    "    \n",
    "    def save_as_txt(self, text, file_name):\n",
    "        file = file_name[:-4]\n",
    "        open(self.destination + '\\\\' + file + '.txt', 'w', encoding='utf8').write(text)\n",
    "        #print(\"Saving at: \" + self.destination + '\\\\' + file + '.txt')\n",
    "     \n",
    "    def convert_to_txt(self):\n",
    "        from tqdm.notebook import tqdm\n",
    "        \n",
    "        print(\"Converting to pdfs to txt...\")\n",
    "        errors = 0\n",
    "        for pdf in tqdm(self.files):\n",
    "            try:\n",
    "                path = self.path + '\\\\' + pdf\n",
    "                #print(path)\n",
    "                text = self.convert_pdf_to_text(path)\n",
    "                text = text.replace(\"\\n\",\"\")\n",
    "                self.save_as_txt(text, pdf)       \n",
    "            except:\n",
    "                errors += 1\n",
    "                continue\n",
    "        print(str(errors) + \" was not converted\")        \n",
    "        print(\"Conversion done!\")    \n",
    "                \n",
    "    \n",
    "    @staticmethod\n",
    "    def convert_pdf_to_text(path):\n",
    "        \"\"\"\n",
    "        :param path: A path to an existing pdf \n",
    "        :type path: str\n",
    "        :rparam text: string containing the text of the pdf.\n",
    "        :rtype text: str\n",
    "        \"\"\"\n",
    "  \n",
    "        pdfFileObj = open(path, 'rb') \n",
    "    \n",
    "        try:  #First attempt PyPDF2\n",
    "\n",
    "            pdfReader = PyPDF2.PdfFileReader(pdfFileObj)\n",
    "\n",
    "            num_pages = pdfReader.numPages\n",
    "            count = 0\n",
    "            text = \"\"\n",
    "\n",
    "            #The while loop will read each page.\n",
    "            while count < num_pages:\n",
    "\n",
    "                pageObj = pdfReader.getPage(count)\n",
    "                count +=1\n",
    "                text += pageObj.extractText()\n",
    "\n",
    "        \n",
    "        except: # Else attempt with textract\n",
    "            \n",
    "            text = textract.process(path)\n",
    "            text = str(text).replace('\\\\r\\\\n', \" \")\n",
    "            \n",
    "\n",
    "        pdfFileObj.close()\n",
    "\n",
    "        return text\n",
    "    \n",
    "    @staticmethod\n",
    "    def get_files_in_location(location,destination):\n",
    "        from os import listdir\n",
    "        from os.path import isfile, join, expanduser\n",
    "        \n",
    "        mypath=expanduser('~') +'\\\\' + location\n",
    "        destination=expanduser('~') +'\\\\' + destination\n",
    "        onlyfiles = [f for f in listdir(mypath) if isfile(join(mypath, f))]\n",
    "        \n",
    "        return mypath, destination, onlyfiles\n",
    "        \n",
    "    "
   ]
  },
  {
   "cell_type": "code",
   "execution_count": 4,
   "metadata": {
    "scrolled": true
   },
   "outputs": [
    {
     "name": "stdout",
     "output_type": "stream",
     "text": [
      "found 86 files in C:\\Users\\nikol\\Reports\n",
      "Converting to pdfs to txt...\n"
     ]
    },
    {
     "data": {
      "application/vnd.jupyter.widget-view+json": {
       "model_id": "9286cdf72a1044f5800d0adcc9ad62ec",
       "version_major": 2,
       "version_minor": 0
      },
      "text/plain": [
       "HBox(children=(IntProgress(value=0, max=86), HTML(value='')))"
      ]
     },
     "metadata": {},
     "output_type": "display_data"
    },
    {
     "name": "stdout",
     "output_type": "stream",
     "text": [
      "\n",
      "1 was not converted\n",
      "Conversion done!\n"
     ]
    }
   ],
   "source": [
    "DB_pdfs=pdf_to_text(\"Reports\",\"Reports_txt\")\n",
    "DB_pdfs.convert_to_txt()"
   ]
  }
 ],
 "metadata": {
  "kernelspec": {
   "display_name": "Python 3",
   "language": "python",
   "name": "python3"
  },
  "language_info": {
   "codemirror_mode": {
    "name": "ipython",
    "version": 3
   },
   "file_extension": ".py",
   "mimetype": "text/x-python",
   "name": "python",
   "nbconvert_exporter": "python",
   "pygments_lexer": "ipython3",
   "version": "3.7.4"
  }
 },
 "nbformat": 4,
 "nbformat_minor": 2
}
